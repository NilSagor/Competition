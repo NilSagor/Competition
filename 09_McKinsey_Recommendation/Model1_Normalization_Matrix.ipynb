{
 "cells": [
  {
   "cell_type": "code",
   "execution_count": 1,
   "metadata": {},
   "outputs": [
    {
     "name": "stdout",
     "output_type": "stream",
     "text": [
      "Done\n"
     ]
    }
   ],
   "source": [
    "import pandas as pd\n",
    "import sys,os\n",
    "import numpy as np\n",
    "import matplotlib.pyplot as plt\n",
    "%matplotlib inline\n",
    "\n",
    "\n",
    "df_train=pd.read_csv('Data/train.csv')\n",
    "df_test=pd.read_csv('Data/test.csv')\n",
    "df_chal=pd.read_csv('Data/challenge_data.csv')\n",
    "df_chal['publish_date']=pd.to_datetime(df_chal['publish_date'],format='%d-%m-%Y')\n",
    "df_chal.sort_values(by='publish_date',inplace=True)\n",
    "\n",
    "print (\"Done\")\n",
    "#df_chal['challenge_id']=np.arange(len(df_chal))"
   ]
  },
  {
   "cell_type": "code",
   "execution_count": 2,
   "metadata": {},
   "outputs": [],
   "source": [
    "df_test['value'] = 1\n",
    "df_train['value'] = 1"
   ]
  },
  {
   "cell_type": "code",
   "execution_count": 4,
   "metadata": {},
   "outputs": [
    {
     "ename": "MemoryError",
     "evalue": "",
     "output_type": "error",
     "traceback": [
      "\u001b[1;31m---------------------------------------------------------------------------\u001b[0m",
      "\u001b[1;31mMemoryError\u001b[0m                               Traceback (most recent call last)",
      "\u001b[1;32m<ipython-input-4-b98b1139641b>\u001b[0m in \u001b[0;36m<module>\u001b[1;34m()\u001b[0m\n\u001b[0;32m      5\u001b[0m users_items_pivot_matrix_df_train = df_train.pivot(index='user_id', \n\u001b[0;32m      6\u001b[0m                                                           \u001b[0mcolumns\u001b[0m\u001b[1;33m=\u001b[0m\u001b[1;34m'challenge'\u001b[0m\u001b[1;33m,\u001b[0m\u001b[1;33m\u001b[0m\u001b[0m\n\u001b[1;32m----> 7\u001b[1;33m                                                           values='value').fillna(0)\n\u001b[0m\u001b[0;32m      8\u001b[0m \u001b[1;33m\u001b[0m\u001b[0m\n",
      "\u001b[1;32m~\\AppData\\Local\\Continuum\\anaconda3\\lib\\site-packages\\pandas\\core\\frame.py\u001b[0m in \u001b[0;36mfillna\u001b[1;34m(self, value, method, axis, inplace, limit, downcast, **kwargs)\u001b[0m\n\u001b[0;32m   3033\u001b[0m                      \u001b[0mself\u001b[0m\u001b[1;33m)\u001b[0m\u001b[1;33m.\u001b[0m\u001b[0mfillna\u001b[0m\u001b[1;33m(\u001b[0m\u001b[0mvalue\u001b[0m\u001b[1;33m=\u001b[0m\u001b[0mvalue\u001b[0m\u001b[1;33m,\u001b[0m \u001b[0mmethod\u001b[0m\u001b[1;33m=\u001b[0m\u001b[0mmethod\u001b[0m\u001b[1;33m,\u001b[0m \u001b[0maxis\u001b[0m\u001b[1;33m=\u001b[0m\u001b[0maxis\u001b[0m\u001b[1;33m,\u001b[0m\u001b[1;33m\u001b[0m\u001b[0m\n\u001b[0;32m   3034\u001b[0m                                   \u001b[0minplace\u001b[0m\u001b[1;33m=\u001b[0m\u001b[0minplace\u001b[0m\u001b[1;33m,\u001b[0m \u001b[0mlimit\u001b[0m\u001b[1;33m=\u001b[0m\u001b[0mlimit\u001b[0m\u001b[1;33m,\u001b[0m\u001b[1;33m\u001b[0m\u001b[0m\n\u001b[1;32m-> 3035\u001b[1;33m                                   downcast=downcast, **kwargs)\n\u001b[0m\u001b[0;32m   3036\u001b[0m \u001b[1;33m\u001b[0m\u001b[0m\n\u001b[0;32m   3037\u001b[0m     \u001b[1;33m@\u001b[0m\u001b[0mAppender\u001b[0m\u001b[1;33m(\u001b[0m\u001b[0m_shared_docs\u001b[0m\u001b[1;33m[\u001b[0m\u001b[1;34m'shift'\u001b[0m\u001b[1;33m]\u001b[0m \u001b[1;33m%\u001b[0m \u001b[0m_shared_doc_kwargs\u001b[0m\u001b[1;33m)\u001b[0m\u001b[1;33m\u001b[0m\u001b[0m\n",
      "\u001b[1;32m~\\AppData\\Local\\Continuum\\anaconda3\\lib\\site-packages\\pandas\\core\\generic.py\u001b[0m in \u001b[0;36mfillna\u001b[1;34m(self, value, method, axis, inplace, limit, downcast)\u001b[0m\n\u001b[0;32m   4346\u001b[0m                 new_data = self._data.fillna(value=value, limit=limit,\n\u001b[0;32m   4347\u001b[0m                                              \u001b[0minplace\u001b[0m\u001b[1;33m=\u001b[0m\u001b[0minplace\u001b[0m\u001b[1;33m,\u001b[0m\u001b[1;33m\u001b[0m\u001b[0m\n\u001b[1;32m-> 4348\u001b[1;33m                                              downcast=downcast)\n\u001b[0m\u001b[0;32m   4349\u001b[0m             \u001b[1;32melif\u001b[0m \u001b[0misinstance\u001b[0m\u001b[1;33m(\u001b[0m\u001b[0mvalue\u001b[0m\u001b[1;33m,\u001b[0m \u001b[0mDataFrame\u001b[0m\u001b[1;33m)\u001b[0m \u001b[1;32mand\u001b[0m \u001b[0mself\u001b[0m\u001b[1;33m.\u001b[0m\u001b[0mndim\u001b[0m \u001b[1;33m==\u001b[0m \u001b[1;36m2\u001b[0m\u001b[1;33m:\u001b[0m\u001b[1;33m\u001b[0m\u001b[0m\n\u001b[0;32m   4350\u001b[0m                 \u001b[0mnew_data\u001b[0m \u001b[1;33m=\u001b[0m \u001b[0mself\u001b[0m\u001b[1;33m.\u001b[0m\u001b[0mwhere\u001b[0m\u001b[1;33m(\u001b[0m\u001b[0mself\u001b[0m\u001b[1;33m.\u001b[0m\u001b[0mnotna\u001b[0m\u001b[1;33m(\u001b[0m\u001b[1;33m)\u001b[0m\u001b[1;33m,\u001b[0m \u001b[0mvalue\u001b[0m\u001b[1;33m)\u001b[0m\u001b[1;33m\u001b[0m\u001b[0m\n",
      "\u001b[1;32m~\\AppData\\Local\\Continuum\\anaconda3\\lib\\site-packages\\pandas\\core\\internals.py\u001b[0m in \u001b[0;36mfillna\u001b[1;34m(self, **kwargs)\u001b[0m\n\u001b[0;32m   3454\u001b[0m \u001b[1;33m\u001b[0m\u001b[0m\n\u001b[0;32m   3455\u001b[0m     \u001b[1;32mdef\u001b[0m \u001b[0mfillna\u001b[0m\u001b[1;33m(\u001b[0m\u001b[0mself\u001b[0m\u001b[1;33m,\u001b[0m \u001b[1;33m**\u001b[0m\u001b[0mkwargs\u001b[0m\u001b[1;33m)\u001b[0m\u001b[1;33m:\u001b[0m\u001b[1;33m\u001b[0m\u001b[0m\n\u001b[1;32m-> 3456\u001b[1;33m         \u001b[1;32mreturn\u001b[0m \u001b[0mself\u001b[0m\u001b[1;33m.\u001b[0m\u001b[0mapply\u001b[0m\u001b[1;33m(\u001b[0m\u001b[1;34m'fillna'\u001b[0m\u001b[1;33m,\u001b[0m \u001b[1;33m**\u001b[0m\u001b[0mkwargs\u001b[0m\u001b[1;33m)\u001b[0m\u001b[1;33m\u001b[0m\u001b[0m\n\u001b[0m\u001b[0;32m   3457\u001b[0m \u001b[1;33m\u001b[0m\u001b[0m\n\u001b[0;32m   3458\u001b[0m     \u001b[1;32mdef\u001b[0m \u001b[0mdowncast\u001b[0m\u001b[1;33m(\u001b[0m\u001b[0mself\u001b[0m\u001b[1;33m,\u001b[0m \u001b[1;33m**\u001b[0m\u001b[0mkwargs\u001b[0m\u001b[1;33m)\u001b[0m\u001b[1;33m:\u001b[0m\u001b[1;33m\u001b[0m\u001b[0m\n",
      "\u001b[1;32m~\\AppData\\Local\\Continuum\\anaconda3\\lib\\site-packages\\pandas\\core\\internals.py\u001b[0m in \u001b[0;36mapply\u001b[1;34m(self, f, axes, filter, do_integrity_check, consolidate, **kwargs)\u001b[0m\n\u001b[0;32m   3327\u001b[0m \u001b[1;33m\u001b[0m\u001b[0m\n\u001b[0;32m   3328\u001b[0m             \u001b[0mkwargs\u001b[0m\u001b[1;33m[\u001b[0m\u001b[1;34m'mgr'\u001b[0m\u001b[1;33m]\u001b[0m \u001b[1;33m=\u001b[0m \u001b[0mself\u001b[0m\u001b[1;33m\u001b[0m\u001b[0m\n\u001b[1;32m-> 3329\u001b[1;33m             \u001b[0mapplied\u001b[0m \u001b[1;33m=\u001b[0m \u001b[0mgetattr\u001b[0m\u001b[1;33m(\u001b[0m\u001b[0mb\u001b[0m\u001b[1;33m,\u001b[0m \u001b[0mf\u001b[0m\u001b[1;33m)\u001b[0m\u001b[1;33m(\u001b[0m\u001b[1;33m**\u001b[0m\u001b[0mkwargs\u001b[0m\u001b[1;33m)\u001b[0m\u001b[1;33m\u001b[0m\u001b[0m\n\u001b[0m\u001b[0;32m   3330\u001b[0m             \u001b[0mresult_blocks\u001b[0m \u001b[1;33m=\u001b[0m \u001b[0m_extend_blocks\u001b[0m\u001b[1;33m(\u001b[0m\u001b[0mapplied\u001b[0m\u001b[1;33m,\u001b[0m \u001b[0mresult_blocks\u001b[0m\u001b[1;33m)\u001b[0m\u001b[1;33m\u001b[0m\u001b[0m\n\u001b[0;32m   3331\u001b[0m \u001b[1;33m\u001b[0m\u001b[0m\n",
      "\u001b[1;32m~\\AppData\\Local\\Continuum\\anaconda3\\lib\\site-packages\\pandas\\core\\internals.py\u001b[0m in \u001b[0;36mfillna\u001b[1;34m(self, value, limit, inplace, downcast, mgr)\u001b[0m\n\u001b[0;32m    398\u001b[0m         \u001b[1;32mtry\u001b[0m\u001b[1;33m:\u001b[0m\u001b[1;33m\u001b[0m\u001b[0m\n\u001b[0;32m    399\u001b[0m             \u001b[0mvalues\u001b[0m\u001b[1;33m,\u001b[0m \u001b[0m_\u001b[0m\u001b[1;33m,\u001b[0m \u001b[0m_\u001b[0m\u001b[1;33m,\u001b[0m \u001b[0m_\u001b[0m \u001b[1;33m=\u001b[0m \u001b[0mself\u001b[0m\u001b[1;33m.\u001b[0m\u001b[0m_try_coerce_args\u001b[0m\u001b[1;33m(\u001b[0m\u001b[0mself\u001b[0m\u001b[1;33m.\u001b[0m\u001b[0mvalues\u001b[0m\u001b[1;33m,\u001b[0m \u001b[0mvalue\u001b[0m\u001b[1;33m)\u001b[0m\u001b[1;33m\u001b[0m\u001b[0m\n\u001b[1;32m--> 400\u001b[1;33m             \u001b[0mblocks\u001b[0m \u001b[1;33m=\u001b[0m \u001b[0mself\u001b[0m\u001b[1;33m.\u001b[0m\u001b[0mputmask\u001b[0m\u001b[1;33m(\u001b[0m\u001b[0mmask\u001b[0m\u001b[1;33m,\u001b[0m \u001b[0mvalue\u001b[0m\u001b[1;33m,\u001b[0m \u001b[0minplace\u001b[0m\u001b[1;33m=\u001b[0m\u001b[0minplace\u001b[0m\u001b[1;33m)\u001b[0m\u001b[1;33m\u001b[0m\u001b[0m\n\u001b[0m\u001b[0;32m    401\u001b[0m             blocks = [b.make_block(values=self._try_coerce_result(b.values))\n\u001b[0;32m    402\u001b[0m                       for b in blocks]\n",
      "\u001b[1;32m~\\AppData\\Local\\Continuum\\anaconda3\\lib\\site-packages\\pandas\\core\\internals.py\u001b[0m in \u001b[0;36mputmask\u001b[1;34m(self, mask, new, align, inplace, axis, transpose, mgr)\u001b[0m\n\u001b[0;32m    928\u001b[0m         \"\"\"\n\u001b[0;32m    929\u001b[0m \u001b[1;33m\u001b[0m\u001b[0m\n\u001b[1;32m--> 930\u001b[1;33m         \u001b[0mnew_values\u001b[0m \u001b[1;33m=\u001b[0m \u001b[0mself\u001b[0m\u001b[1;33m.\u001b[0m\u001b[0mvalues\u001b[0m \u001b[1;32mif\u001b[0m \u001b[0minplace\u001b[0m \u001b[1;32melse\u001b[0m \u001b[0mself\u001b[0m\u001b[1;33m.\u001b[0m\u001b[0mvalues\u001b[0m\u001b[1;33m.\u001b[0m\u001b[0mcopy\u001b[0m\u001b[1;33m(\u001b[0m\u001b[1;33m)\u001b[0m\u001b[1;33m\u001b[0m\u001b[0m\n\u001b[0m\u001b[0;32m    931\u001b[0m \u001b[1;33m\u001b[0m\u001b[0m\n\u001b[0;32m    932\u001b[0m         \u001b[1;32mif\u001b[0m \u001b[0mhasattr\u001b[0m\u001b[1;33m(\u001b[0m\u001b[0mnew\u001b[0m\u001b[1;33m,\u001b[0m \u001b[1;34m'reindex_axis'\u001b[0m\u001b[1;33m)\u001b[0m\u001b[1;33m:\u001b[0m\u001b[1;33m\u001b[0m\u001b[0m\n",
      "\u001b[1;31mMemoryError\u001b[0m: "
     ]
    }
   ],
   "source": [
    "users_items_pivot_matrix_df = df_test.pivot(index='user_id', \n",
    "                                                          columns='challenge', \n",
    "                                                          values='value').fillna(0)\n",
    "\n",
    "users_items_pivot_matrix_df_train = df_train.pivot(index='user_id', \n",
    "                                                          columns='challenge', \n",
    "                                                          values='value').fillna(0)\n",
    "\n"
   ]
  },
  {
   "cell_type": "code",
   "execution_count": null,
   "metadata": {},
   "outputs": [],
   "source": [
    "from scipy.sparse.linalg import svds\n",
    "NUMBER_OF_FACTORS_MF = 100\n",
    "users_items_pivot_matrix = users_items_pivot_matrix_df.as_matrix()\n",
    "users_ids = list(users_items_pivot_matrix_df.index)\n",
    "#Performs matrix factorization of the original user item matrix\n",
    "U, sigma, Vt = svds(users_items_pivot_matrix, k = NUMBER_OF_FACTORS_MF)\n",
    "\n",
    "sigma = np.diag(sigma)\n"
   ]
  },
  {
   "cell_type": "code",
   "execution_count": 48,
   "metadata": {
    "scrolled": true
   },
   "outputs": [
    {
     "name": "stdout",
     "output_type": "stream",
     "text": [
      "SVD Done\n",
      "Done\n"
     ]
    }
   ],
   "source": [
    "from scipy.sparse.linalg import svds\n",
    "NUMBER_OF_FACTORS_MF = 100\n",
    "users_items_pivot_matrix = users_items_pivot_matrix_df.as_matrix()\n",
    "users_ids = list(users_items_pivot_matrix_df.index)\n",
    "#Performs matrix factorization of the original user item matrix\n",
    "U, sigma, Vt = svds(users_items_pivot_matrix, k = NUMBER_OF_FACTORS_MF)\n",
    "\n",
    "sigma = np.diag(sigma)\n",
    "all_user_predicted_ratings = np.dot(np.dot(U, sigma), Vt) \n",
    "cf_preds_df = pd.DataFrame(all_user_predicted_ratings, columns = users_items_pivot_matrix_df.columns, index=users_ids).transpose()\n",
    "\n",
    "print (\"SVD Done\")\n",
    "cf_pred_value = cf_preds_df.transpose()\n",
    "\n",
    "output ={}\n",
    "for i in cf_pred_value.index:\n",
    "    v = cf_pred_value[cf_pred_value.index==i]\n",
    "    v_t = v.transpose()\n",
    "    v_t1 = v_t.sort_values([i],ascending=False)\n",
    "    list_df = list(df_test[df_test.user_id==i]['challenge'])\n",
    "    count = 11\n",
    "    for j in v_t1.index:\n",
    "        if j not in list_df:\n",
    "            aa = str(i)+\"_\"+str(count)\n",
    "            output[aa] = j\n",
    "            count=count+1\n",
    "        if count>=14:\n",
    "            break\n",
    "print (\"Done\")\n",
    "\n",
    "\n",
    "output21 =   pd.DataFrame(output, index=[1])\n",
    "a1 = output21.transpose()\n",
    "a1 = a1.reset_index()\n",
    "a1.columns = ['user_sequence','challenge']\n",
    "dir_1 = 'C:/Users/shubham.gupta/OneDrive - Opera Solutions USA, LLC/Shubham/Analytics Vidhya/McKinsey_Recommendation/submission/'\n",
    "file_name = dir_1+ \"Freq_100.csv\"\n",
    "a1.to_csv(file_name,index=False)"
   ]
  },
  {
   "cell_type": "code",
   "execution_count": 11,
   "metadata": {},
   "outputs": [
    {
     "name": "stdout",
     "output_type": "stream",
     "text": [
      "Evaluating Collaborative Filtering (SVD Matrix Factorization) model...\n"
     ]
    },
    {
     "ename": "NameError",
     "evalue": "name 'interactions_test_indexed_df' is not defined",
     "output_type": "error",
     "traceback": [
      "\u001b[1;31m---------------------------------------------------------------------------\u001b[0m",
      "\u001b[1;31mNameError\u001b[0m                                 Traceback (most recent call last)",
      "\u001b[1;32m<ipython-input-11-dc1df0c49c2a>\u001b[0m in \u001b[0;36m<module>\u001b[1;34m()\u001b[0m\n\u001b[0;32m      1\u001b[0m \u001b[0mprint\u001b[0m\u001b[1;33m(\u001b[0m\u001b[1;34m'Evaluating Collaborative Filtering (SVD Matrix Factorization) model...'\u001b[0m\u001b[1;33m)\u001b[0m\u001b[1;33m\u001b[0m\u001b[0m\n\u001b[1;32m----> 2\u001b[1;33m \u001b[0mcf_global_metrics\u001b[0m\u001b[1;33m,\u001b[0m \u001b[0mcf_detailed_results_df\u001b[0m \u001b[1;33m=\u001b[0m \u001b[0mmodel_evaluator\u001b[0m\u001b[1;33m.\u001b[0m\u001b[0mevaluate_model\u001b[0m\u001b[1;33m(\u001b[0m\u001b[0mcf_recommender_model\u001b[0m\u001b[1;33m)\u001b[0m\u001b[1;33m\u001b[0m\u001b[0m\n\u001b[0m\u001b[0;32m      3\u001b[0m \u001b[0mprint\u001b[0m\u001b[1;33m(\u001b[0m\u001b[1;34m'\\nGlobal metrics:\\n%s'\u001b[0m \u001b[1;33m%\u001b[0m \u001b[0mcf_global_metrics\u001b[0m\u001b[1;33m)\u001b[0m\u001b[1;33m\u001b[0m\u001b[0m\n\u001b[0;32m      4\u001b[0m \u001b[0mcf_detailed_results_df\u001b[0m\u001b[1;33m.\u001b[0m\u001b[0mhead\u001b[0m\u001b[1;33m(\u001b[0m\u001b[1;36m10\u001b[0m\u001b[1;33m)\u001b[0m\u001b[1;33m\u001b[0m\u001b[0m\n",
      "\u001b[1;32m<ipython-input-10-f4cd92110c01>\u001b[0m in \u001b[0;36mevaluate_model\u001b[1;34m(self, model)\u001b[0m\n\u001b[0;32m     74\u001b[0m         \u001b[1;31m#print('Running evaluation for users')\u001b[0m\u001b[1;33m\u001b[0m\u001b[1;33m\u001b[0m\u001b[0m\n\u001b[0;32m     75\u001b[0m         \u001b[0mpeople_metrics\u001b[0m \u001b[1;33m=\u001b[0m \u001b[1;33m[\u001b[0m\u001b[1;33m]\u001b[0m\u001b[1;33m\u001b[0m\u001b[0m\n\u001b[1;32m---> 76\u001b[1;33m         \u001b[1;32mfor\u001b[0m \u001b[0midx\u001b[0m\u001b[1;33m,\u001b[0m \u001b[0mperson_id\u001b[0m \u001b[1;32min\u001b[0m \u001b[0menumerate\u001b[0m\u001b[1;33m(\u001b[0m\u001b[0mlist\u001b[0m\u001b[1;33m(\u001b[0m\u001b[0minteractions_test_indexed_df\u001b[0m\u001b[1;33m.\u001b[0m\u001b[0mindex\u001b[0m\u001b[1;33m.\u001b[0m\u001b[0munique\u001b[0m\u001b[1;33m(\u001b[0m\u001b[1;33m)\u001b[0m\u001b[1;33m.\u001b[0m\u001b[0mvalues\u001b[0m\u001b[1;33m)\u001b[0m\u001b[1;33m)\u001b[0m\u001b[1;33m:\u001b[0m\u001b[1;33m\u001b[0m\u001b[0m\n\u001b[0m\u001b[0;32m     77\u001b[0m             \u001b[1;31m#if idx % 100 == 0 and idx > 0:\u001b[0m\u001b[1;33m\u001b[0m\u001b[1;33m\u001b[0m\u001b[0m\n\u001b[0;32m     78\u001b[0m             \u001b[1;31m#    print('%d users processed' % idx)\u001b[0m\u001b[1;33m\u001b[0m\u001b[1;33m\u001b[0m\u001b[0m\n",
      "\u001b[1;31mNameError\u001b[0m: name 'interactions_test_indexed_df' is not defined"
     ]
    }
   ],
   "source": [
    "print('Evaluating Collaborative Filtering (SVD Matrix Factorization) model...')\n",
    "cf_global_metrics, cf_detailed_results_df = model_evaluator.evaluate_model(cf_recommender_model)\n",
    "print('\\nGlobal metrics:\\n%s' % cf_global_metrics)\n",
    "cf_detailed_results_df.head(10)"
   ]
  },
  {
   "cell_type": "code",
   "execution_count": 2,
   "metadata": {},
   "outputs": [],
   "source": [
    "users = df_train[['user_id']].drop_duplicates()\n",
    "users['ds']=np.where(np.random.rand(len(users))>0.75,'valid','train')\n",
    "df_train = df_train.merge(users,right_on=\"user_id\",left_on=\"user_id\", how=\"inner\")\n",
    "df_test['ds'] = 'test'\n",
    "master=pd.merge(pd.concat([df_train,df_test]),df_chal,left_on=['challenge'],right_on=['challenge_ID'])\n",
    "master.sort_values(by=['user_id','challenge_sequence'],inplace=True)\n"
   ]
  },
  {
   "cell_type": "code",
   "execution_count": 3,
   "metadata": {},
   "outputs": [],
   "source": [
    "def get_datasegment(master,valid=True):\n",
    "    if valid==True:\n",
    "        a1=master[master['ds'].isin(['train'])]\n",
    "        a2=master[master['ds'].isin(['valid'])]\n",
    "        a3=a2[a2['challenge_sequence']<=10]\n",
    "        a4=a2[a2['challenge_sequence']>10]\n",
    "        return a1,a3,a4\n",
    "    else:\n",
    "        return master[master['ds'].isin(['train','valid'])],master[master['ds'].isin(['test'])],[]\n",
    "\n",
    "train,test,target=get_datasegment(master,valid=False)"
   ]
  },
  {
   "cell_type": "code",
   "execution_count": 68,
   "metadata": {},
   "outputs": [],
   "source": [
    "train_last3 = train[train.challenge_sequence>10]\n",
    "challenge_grp = train_last3.groupby(['challenge'])['user_id'].count()\n",
    "\n",
    "a = pd.DataFrame(challenge_grp)\n",
    "a.columns = ['count']\n",
    "a = a.sort_values(by='count', ascending=False)\n",
    "a = a.reset_index()\n",
    "freq_list = a['challenge'].unique()"
   ]
  },
  {
   "cell_type": "code",
   "execution_count": 69,
   "metadata": {},
   "outputs": [
    {
     "name": "stdout",
     "output_type": "stream",
     "text": [
      "['CI23769' 'CI23933' 'CI25175' 'CI24866' 'CI23648' 'CI23691' 'CI24138'\n",
      " 'CI23714' 'CI24530' 'CI23612']\n"
     ]
    }
   ],
   "source": [
    "user_id_test = df_test['user_id'].unique()\n",
    "output = {}\n",
    "for user in user_id_test:\n",
    "    uses_list = df_test[df_test.user_id==user]['challenge'].unique()\n",
    "    count = 11\n",
    "    for j in freq_list:\n",
    "        if j not in uses_list:\n",
    "            aa = str(user)+\"_\"+str(count)\n",
    "            output[aa] = j\n",
    "            count=count+1\n",
    "        if count>=14:\n",
    "            break\n",
    "    \n",
    "print (uses_list)\n"
   ]
  },
  {
   "cell_type": "code",
   "execution_count": 70,
   "metadata": {},
   "outputs": [],
   "source": [
    "output21 =   pd.DataFrame(output, index=[1])\n",
    "a1 = output21.transpose()\n",
    "a1 = a1.reset_index()\n",
    "a1.columns = ['user_sequence','challenge']\n",
    "dir_1 = 'C:/Users/shubham.gupta/OneDrive - Opera Solutions USA, LLC/Shubham/Analytics Vidhya/McKinsey_Recommendation/submission/'\n",
    "file_name = dir_1+ \"Freq_2.csv\"\n",
    "a1.to_csv(file_name,index=False)"
   ]
  },
  {
   "cell_type": "code",
   "execution_count": 67,
   "metadata": {},
   "outputs": [],
   "source": [
    "\n",
    "\n"
   ]
  },
  {
   "cell_type": "code",
   "execution_count": 37,
   "metadata": {},
   "outputs": [],
   "source": [
    "output1 = pd.DataFrame(output.items())\n",
    "output1.to_csv('model1.csv',index=False)"
   ]
  },
  {
   "cell_type": "code",
   "execution_count": 20,
   "metadata": {},
   "outputs": [],
   "source": [
    "train_1  = pd.get_dummies(train, columns=[\"programming_language\", \"challenge_series_ID\",\"author_gender\",\"category_id\"], prefix=[\"PL\", \"CL\",\"AG\",\"CID\"])"
   ]
  },
  {
   "cell_type": "code",
   "execution_count": 34,
   "metadata": {},
   "outputs": [
    {
     "data": {
      "text/html": [
       "<div>\n",
       "<style scoped>\n",
       "    .dataframe tbody tr th:only-of-type {\n",
       "        vertical-align: middle;\n",
       "    }\n",
       "\n",
       "    .dataframe tbody tr th {\n",
       "        vertical-align: top;\n",
       "    }\n",
       "\n",
       "    .dataframe thead th {\n",
       "        text-align: right;\n",
       "    }\n",
       "</style>\n",
       "<table border=\"1\" class=\"dataframe\">\n",
       "  <thead>\n",
       "    <tr style=\"text-align: right;\">\n",
       "      <th></th>\n",
       "      <th>100001_11</th>\n",
       "      <th>100001_12</th>\n",
       "      <th>100001_13</th>\n",
       "      <th>100003_11</th>\n",
       "      <th>100003_12</th>\n",
       "      <th>100003_13</th>\n",
       "      <th>100005_11</th>\n",
       "      <th>100005_12</th>\n",
       "      <th>100005_13</th>\n",
       "      <th>100007_11</th>\n",
       "      <th>...</th>\n",
       "      <th>99992_13</th>\n",
       "      <th>99994_11</th>\n",
       "      <th>99994_12</th>\n",
       "      <th>99994_13</th>\n",
       "      <th>99997_11</th>\n",
       "      <th>99997_12</th>\n",
       "      <th>99997_13</th>\n",
       "      <th>99999_11</th>\n",
       "      <th>99999_12</th>\n",
       "      <th>99999_13</th>\n",
       "    </tr>\n",
       "  </thead>\n",
       "  <tbody>\n",
       "    <tr>\n",
       "      <th>1</th>\n",
       "      <td>NaN</td>\n",
       "      <td>NaN</td>\n",
       "      <td>NaN</td>\n",
       "      <td>NaN</td>\n",
       "      <td>NaN</td>\n",
       "      <td>NaN</td>\n",
       "      <td>NaN</td>\n",
       "      <td>NaN</td>\n",
       "      <td>NaN</td>\n",
       "      <td>NaN</td>\n",
       "      <td>...</td>\n",
       "      <td>NaN</td>\n",
       "      <td>NaN</td>\n",
       "      <td>NaN</td>\n",
       "      <td>NaN</td>\n",
       "      <td>NaN</td>\n",
       "      <td>NaN</td>\n",
       "      <td>NaN</td>\n",
       "      <td>NaN</td>\n",
       "      <td>NaN</td>\n",
       "      <td>NaN</td>\n",
       "    </tr>\n",
       "  </tbody>\n",
       "</table>\n",
       "<p>1 rows × 119196 columns</p>\n",
       "</div>"
      ],
      "text/plain": [
       "  100001_11 100001_12 100001_13 100003_11 100003_12 100003_13 100005_11  \\\n",
       "1       NaN       NaN       NaN       NaN       NaN       NaN       NaN   \n",
       "\n",
       "  100005_12 100005_13 100007_11   ...    99992_13 99994_11 99994_12 99994_13  \\\n",
       "1       NaN       NaN       NaN   ...         NaN      NaN      NaN      NaN   \n",
       "\n",
       "  99997_11 99997_12 99997_13 99999_11 99999_12 99999_13  \n",
       "1      NaN      NaN      NaN      NaN      NaN      NaN  \n",
       "\n",
       "[1 rows x 119196 columns]"
      ]
     },
     "execution_count": 34,
     "metadata": {},
     "output_type": "execute_result"
    }
   ],
   "source": [
    "output"
   ]
  },
  {
   "cell_type": "code",
   "execution_count": 21,
   "metadata": {},
   "outputs": [
    {
     "data": {
      "text/html": [
       "<div>\n",
       "<style scoped>\n",
       "    .dataframe tbody tr th:only-of-type {\n",
       "        vertical-align: middle;\n",
       "    }\n",
       "\n",
       "    .dataframe tbody tr th {\n",
       "        vertical-align: top;\n",
       "    }\n",
       "\n",
       "    .dataframe thead th {\n",
       "        text-align: right;\n",
       "    }\n",
       "</style>\n",
       "<table border=\"1\" class=\"dataframe\">\n",
       "  <thead>\n",
       "    <tr style=\"text-align: right;\">\n",
       "      <th></th>\n",
       "      <th>user_sequence</th>\n",
       "      <th>user_id</th>\n",
       "      <th>challenge_sequence</th>\n",
       "      <th>challenge</th>\n",
       "      <th>ds</th>\n",
       "      <th>challenge_ID</th>\n",
       "      <th>total_submissions</th>\n",
       "      <th>publish_date</th>\n",
       "      <th>author_ID</th>\n",
       "      <th>author_org_ID</th>\n",
       "      <th>...</th>\n",
       "      <th>CID_230.0</th>\n",
       "      <th>CID_233.0</th>\n",
       "      <th>CID_238.0</th>\n",
       "      <th>CID_239.0</th>\n",
       "      <th>CID_246.0</th>\n",
       "      <th>CID_247.0</th>\n",
       "      <th>CID_250.0</th>\n",
       "      <th>CID_259.0</th>\n",
       "      <th>CID_274.0</th>\n",
       "      <th>CID_304.0</th>\n",
       "    </tr>\n",
       "  </thead>\n",
       "  <tbody>\n",
       "    <tr>\n",
       "      <th>40015</th>\n",
       "      <td>4580_1</td>\n",
       "      <td>4580</td>\n",
       "      <td>1</td>\n",
       "      <td>CI23663</td>\n",
       "      <td>train</td>\n",
       "      <td>CI23663</td>\n",
       "      <td>8897.0</td>\n",
       "      <td>2004-09-15</td>\n",
       "      <td>AI563724</td>\n",
       "      <td>AOI100098</td>\n",
       "      <td>...</td>\n",
       "      <td>0</td>\n",
       "      <td>0</td>\n",
       "      <td>0</td>\n",
       "      <td>0</td>\n",
       "      <td>0</td>\n",
       "      <td>0</td>\n",
       "      <td>0</td>\n",
       "      <td>0</td>\n",
       "      <td>0</td>\n",
       "      <td>0</td>\n",
       "    </tr>\n",
       "    <tr>\n",
       "      <th>12459</th>\n",
       "      <td>4580_2</td>\n",
       "      <td>4580</td>\n",
       "      <td>2</td>\n",
       "      <td>CI23855</td>\n",
       "      <td>train</td>\n",
       "      <td>CI23855</td>\n",
       "      <td>20993.0</td>\n",
       "      <td>2006-07-24</td>\n",
       "      <td>AI563823</td>\n",
       "      <td>NaN</td>\n",
       "      <td>...</td>\n",
       "      <td>0</td>\n",
       "      <td>0</td>\n",
       "      <td>0</td>\n",
       "      <td>0</td>\n",
       "      <td>0</td>\n",
       "      <td>0</td>\n",
       "      <td>0</td>\n",
       "      <td>0</td>\n",
       "      <td>0</td>\n",
       "      <td>0</td>\n",
       "    </tr>\n",
       "    <tr>\n",
       "      <th>52092</th>\n",
       "      <td>4580_3</td>\n",
       "      <td>4580</td>\n",
       "      <td>3</td>\n",
       "      <td>CI23933</td>\n",
       "      <td>train</td>\n",
       "      <td>CI23933</td>\n",
       "      <td>15086.0</td>\n",
       "      <td>2006-07-27</td>\n",
       "      <td>AI563783</td>\n",
       "      <td>AOI100149</td>\n",
       "      <td>...</td>\n",
       "      <td>0</td>\n",
       "      <td>0</td>\n",
       "      <td>0</td>\n",
       "      <td>0</td>\n",
       "      <td>0</td>\n",
       "      <td>0</td>\n",
       "      <td>0</td>\n",
       "      <td>0</td>\n",
       "      <td>0</td>\n",
       "      <td>0</td>\n",
       "    </tr>\n",
       "    <tr>\n",
       "      <th>73634</th>\n",
       "      <td>4580_4</td>\n",
       "      <td>4580</td>\n",
       "      <td>4</td>\n",
       "      <td>CI23975</td>\n",
       "      <td>train</td>\n",
       "      <td>CI23975</td>\n",
       "      <td>9204.0</td>\n",
       "      <td>2005-01-24</td>\n",
       "      <td>AI563823</td>\n",
       "      <td>NaN</td>\n",
       "      <td>...</td>\n",
       "      <td>0</td>\n",
       "      <td>0</td>\n",
       "      <td>0</td>\n",
       "      <td>0</td>\n",
       "      <td>0</td>\n",
       "      <td>0</td>\n",
       "      <td>0</td>\n",
       "      <td>0</td>\n",
       "      <td>0</td>\n",
       "      <td>0</td>\n",
       "    </tr>\n",
       "    <tr>\n",
       "      <th>127564</th>\n",
       "      <td>4580_5</td>\n",
       "      <td>4580</td>\n",
       "      <td>5</td>\n",
       "      <td>CI24530</td>\n",
       "      <td>train</td>\n",
       "      <td>CI24530</td>\n",
       "      <td>6814.0</td>\n",
       "      <td>2006-09-26</td>\n",
       "      <td>AI563815</td>\n",
       "      <td>AOI100173</td>\n",
       "      <td>...</td>\n",
       "      <td>0</td>\n",
       "      <td>0</td>\n",
       "      <td>0</td>\n",
       "      <td>0</td>\n",
       "      <td>0</td>\n",
       "      <td>0</td>\n",
       "      <td>0</td>\n",
       "      <td>0</td>\n",
       "      <td>0</td>\n",
       "      <td>0</td>\n",
       "    </tr>\n",
       "  </tbody>\n",
       "</table>\n",
       "<p>5 rows × 629 columns</p>\n",
       "</div>"
      ],
      "text/plain": [
       "       user_sequence  user_id  challenge_sequence challenge     ds  \\\n",
       "40015         4580_1     4580                   1   CI23663  train   \n",
       "12459         4580_2     4580                   2   CI23855  train   \n",
       "52092         4580_3     4580                   3   CI23933  train   \n",
       "73634         4580_4     4580                   4   CI23975  train   \n",
       "127564        4580_5     4580                   5   CI24530  train   \n",
       "\n",
       "       challenge_ID  total_submissions publish_date author_ID author_org_ID  \\\n",
       "40015       CI23663             8897.0   2004-09-15  AI563724     AOI100098   \n",
       "12459       CI23855            20993.0   2006-07-24  AI563823           NaN   \n",
       "52092       CI23933            15086.0   2006-07-27  AI563783     AOI100149   \n",
       "73634       CI23975             9204.0   2005-01-24  AI563823           NaN   \n",
       "127564      CI24530             6814.0   2006-09-26  AI563815     AOI100173   \n",
       "\n",
       "          ...      CID_230.0  CID_233.0  CID_238.0  CID_239.0  CID_246.0  \\\n",
       "40015     ...              0          0          0          0          0   \n",
       "12459     ...              0          0          0          0          0   \n",
       "52092     ...              0          0          0          0          0   \n",
       "73634     ...              0          0          0          0          0   \n",
       "127564    ...              0          0          0          0          0   \n",
       "\n",
       "        CID_247.0  CID_250.0  CID_259.0  CID_274.0  CID_304.0  \n",
       "40015           0          0          0          0          0  \n",
       "12459           0          0          0          0          0  \n",
       "52092           0          0          0          0          0  \n",
       "73634           0          0          0          0          0  \n",
       "127564          0          0          0          0          0  \n",
       "\n",
       "[5 rows x 629 columns]"
      ]
     },
     "execution_count": 21,
     "metadata": {},
     "output_type": "execute_result"
    }
   ],
   "source": [
    "train_1.head()"
   ]
  },
  {
   "cell_type": "code",
   "execution_count": 22,
   "metadata": {},
   "outputs": [],
   "source": [
    "col = list(train_1.columns)\n",
    "remove_list = ['user_sequence','user_id','challenge_sequence','challenge','ds','challenge_ID','total_submissions','publish_date','author_ID','author_org_ID']\n",
    "col = list(filter(lambda x: x not in remove_list, col))\n",
    "\n",
    "train_grp = train_1.groupby(['user_id'])[col].sum()"
   ]
  },
  {
   "cell_type": "code",
   "execution_count": 26,
   "metadata": {},
   "outputs": [],
   "source": [
    "train_grp['user_id'] = train_grp.index\n",
    "train_grp.to_csv('train_pre_processing.csv',index=False)"
   ]
  },
  {
   "cell_type": "code",
   "execution_count": 27,
   "metadata": {},
   "outputs": [],
   "source": [
    "test_1  = pd.get_dummies(test, columns=[\"programming_language\", \"challenge_series_ID\",\"author_gender\",\"category_id\"], prefix=[\"PL\", \"CL\",\"AG\",\"CID\"])\n",
    "col = list(test_1.columns)\n",
    "remove_list = ['user_sequence','user_id','challenge_sequence','challenge','ds','challenge_ID','total_submissions','publish_date','author_ID','author_org_ID']\n",
    "col = list(filter(lambda x: x not in remove_list, col))\n",
    "\n",
    "test_grp = test_1.groupby(['user_id'])[col].sum()"
   ]
  },
  {
   "cell_type": "code",
   "execution_count": 33,
   "metadata": {},
   "outputs": [],
   "source": [
    "columns_test = test_grp.columns\n",
    "for i in columns_test:\n",
    "    test_grp[i] = (test_grp[i]*1.3)\n",
    "test_grp = test_grp.reset_index()\n",
    "test_grp.to_csv('test_pre_processing.csv',index=False)\n"
   ]
  },
  {
   "cell_type": "code",
   "execution_count": 58,
   "metadata": {},
   "outputs": [
    {
     "data": {
      "text/html": [
       "<div>\n",
       "<style scoped>\n",
       "    .dataframe tbody tr th:only-of-type {\n",
       "        vertical-align: middle;\n",
       "    }\n",
       "\n",
       "    .dataframe tbody tr th {\n",
       "        vertical-align: top;\n",
       "    }\n",
       "\n",
       "    .dataframe thead th {\n",
       "        text-align: right;\n",
       "    }\n",
       "</style>\n",
       "<table border=\"1\" class=\"dataframe\">\n",
       "  <thead>\n",
       "    <tr style=\"text-align: right;\">\n",
       "      <th></th>\n",
       "      <th>user_id</th>\n",
       "      <th>PL_1</th>\n",
       "      <th>PL_2</th>\n",
       "      <th>PL_3</th>\n",
       "      <th>CL_SI2435</th>\n",
       "      <th>CL_SI2436</th>\n",
       "      <th>CL_SI2439</th>\n",
       "      <th>CL_SI2440</th>\n",
       "      <th>CL_SI2441</th>\n",
       "      <th>CL_SI2442</th>\n",
       "      <th>...</th>\n",
       "      <th>CID_219.0</th>\n",
       "      <th>CID_220.0</th>\n",
       "      <th>CID_221.0</th>\n",
       "      <th>CID_223.0</th>\n",
       "      <th>CID_224.0</th>\n",
       "      <th>CID_225.0</th>\n",
       "      <th>CID_226.0</th>\n",
       "      <th>CID_238.0</th>\n",
       "      <th>CID_247.0</th>\n",
       "      <th>CID_259.0</th>\n",
       "    </tr>\n",
       "  </thead>\n",
       "  <tbody>\n",
       "    <tr>\n",
       "      <th>1</th>\n",
       "      <td>4582</td>\n",
       "      <td>13.0</td>\n",
       "      <td>0.0</td>\n",
       "      <td>0.0</td>\n",
       "      <td>0.0</td>\n",
       "      <td>0.0</td>\n",
       "      <td>0.0</td>\n",
       "      <td>0.0</td>\n",
       "      <td>0.0</td>\n",
       "      <td>0.0</td>\n",
       "      <td>...</td>\n",
       "      <td>0.0</td>\n",
       "      <td>0.0</td>\n",
       "      <td>0.0</td>\n",
       "      <td>0.0</td>\n",
       "      <td>0.0</td>\n",
       "      <td>0.0</td>\n",
       "      <td>0.0</td>\n",
       "      <td>0.0</td>\n",
       "      <td>0.0</td>\n",
       "      <td>0.0</td>\n",
       "    </tr>\n",
       "  </tbody>\n",
       "</table>\n",
       "<p>1 rows × 556 columns</p>\n",
       "</div>"
      ],
      "text/plain": [
       "   user_id  PL_1  PL_2  PL_3  CL_SI2435  CL_SI2436  CL_SI2439  CL_SI2440  \\\n",
       "1     4582  13.0   0.0   0.0        0.0        0.0        0.0        0.0   \n",
       "\n",
       "   CL_SI2441  CL_SI2442    ...      CID_219.0  CID_220.0  CID_221.0  \\\n",
       "1        0.0        0.0    ...            0.0        0.0        0.0   \n",
       "\n",
       "   CID_223.0  CID_224.0  CID_225.0  CID_226.0  CID_238.0  CID_247.0  CID_259.0  \n",
       "1        0.0        0.0        0.0        0.0        0.0        0.0        0.0  \n",
       "\n",
       "[1 rows x 556 columns]"
      ]
     },
     "execution_count": 58,
     "metadata": {},
     "output_type": "execute_result"
    }
   ],
   "source": [
    "a = list(train_grp.columns)\n",
    "b = list(test_grp.columns)\n",
    "for i in a:\n",
    "    if i not in b:\n",
    "        test_grp[i] = 0\n",
    "        \n",
    "        \n",
    "a = list(train_grp.columns)\n",
    "b = list(test_grp.columns)\n",
    "for i in b:\n",
    "    if i not in a:\n",
    "        test_grp.drop(i, axis = 1, inplace = True)"
   ]
  },
  {
   "cell_type": "code",
   "execution_count": 114,
   "metadata": {},
   "outputs": [],
   "source": [
    "test_vk = test_grp.values.tolist()\n",
    "train_vk = train_grp.values.tolist()"
   ]
  },
  {
   "cell_type": "code",
   "execution_count": null,
   "metadata": {},
   "outputs": [],
   "source": [
    "test_vk_sample = test_vk\n",
    "final_results = {}\n",
    "for vk in test_vk:\n",
    "    v1 = vk[1:]\n",
    "    corr_value  = {}\n",
    "    for vtrain in train_vk:\n",
    "        v2 = vtrain[:-1]\n",
    "        corr_v = np.corrcoef(v1,v2)\n",
    "        corr_value[vtrain[-1]] = corr_v[0][1]\n",
    "    \n",
    "    v1_list=[]\n",
    "    newA = list(sorted(corr_value.items(), key=operator.itemgetter(1), reverse=True)[:5])\n",
    "    for j in newA:\n",
    "        v1_list.append(j[0])\n",
    "    final_results[vk[0]] = v1_list\n",
    "print (\"Done\")"
   ]
  },
  {
   "cell_type": "code",
   "execution_count": 139,
   "metadata": {},
   "outputs": [
    {
     "data": {
      "text/html": [
       "<div>\n",
       "<style scoped>\n",
       "    .dataframe tbody tr th:only-of-type {\n",
       "        vertical-align: middle;\n",
       "    }\n",
       "\n",
       "    .dataframe tbody tr th {\n",
       "        vertical-align: top;\n",
       "    }\n",
       "\n",
       "    .dataframe thead th {\n",
       "        text-align: right;\n",
       "    }\n",
       "</style>\n",
       "<table border=\"1\" class=\"dataframe\">\n",
       "  <thead>\n",
       "    <tr style=\"text-align: right;\">\n",
       "      <th></th>\n",
       "      <th>4576.0</th>\n",
       "      <th>4582.0</th>\n",
       "    </tr>\n",
       "  </thead>\n",
       "  <tbody>\n",
       "    <tr>\n",
       "      <th>0</th>\n",
       "      <td>62046</td>\n",
       "      <td>62046</td>\n",
       "    </tr>\n",
       "    <tr>\n",
       "      <th>1</th>\n",
       "      <td>99656</td>\n",
       "      <td>67943</td>\n",
       "    </tr>\n",
       "    <tr>\n",
       "      <th>2</th>\n",
       "      <td>110260</td>\n",
       "      <td>84852</td>\n",
       "    </tr>\n",
       "    <tr>\n",
       "      <th>3</th>\n",
       "      <td>67943</td>\n",
       "      <td>99656</td>\n",
       "    </tr>\n",
       "    <tr>\n",
       "      <th>4</th>\n",
       "      <td>70860</td>\n",
       "      <td>71679</td>\n",
       "    </tr>\n",
       "  </tbody>\n",
       "</table>\n",
       "</div>"
      ],
      "text/plain": [
       "   4576.0  4582.0\n",
       "0   62046   62046\n",
       "1   99656   67943\n",
       "2  110260   84852\n",
       "3   67943   99656\n",
       "4   70860   71679"
      ]
     },
     "execution_count": 139,
     "metadata": {},
     "output_type": "execute_result"
    }
   ],
   "source": [
    "a = pd.DataFrame(final_results)\n",
    "a.head()"
   ]
  },
  {
   "cell_type": "code",
   "execution_count": 122,
   "metadata": {},
   "outputs": [],
   "source": [
    "corr_value_s = sorted(corr_value.values())"
   ]
  },
  {
   "cell_type": "code",
   "execution_count": 128,
   "metadata": {},
   "outputs": [
    {
     "data": {
      "text/plain": [
       "[(62046, 0.5658685920389882),\n",
       " (99656, 0.5646864285075788),\n",
       " (110260, 0.5637739716181243),\n",
       " (67943, 0.5634236807449161),\n",
       " (70860, 0.5616045206342356)]"
      ]
     },
     "execution_count": 128,
     "metadata": {},
     "output_type": "execute_result"
    }
   ],
   "source": [
    "newA = list(sorted(corr_value.items(), key=operator.itemgetter(1), reverse=True)[:5])\n",
    "newA"
   ]
  },
  {
   "cell_type": "code",
   "execution_count": 132,
   "metadata": {},
   "outputs": [
    {
     "data": {
      "text/plain": [
       "(62046, 0.5658685920389882)"
      ]
     },
     "execution_count": 132,
     "metadata": {},
     "output_type": "execute_result"
    }
   ],
   "source": []
  },
  {
   "cell_type": "code",
   "execution_count": 109,
   "metadata": {},
   "outputs": [
    {
     "data": {
      "text/plain": [
       "Index(['user_id', 'PL_1', 'PL_2', 'PL_3', 'CL_SI2435', 'CL_SI2436',\n",
       "       'CL_SI2439', 'CL_SI2440', 'CL_SI2441', 'CL_SI2442',\n",
       "       ...\n",
       "       'CID_164.0', 'CID_207.0', 'CID_208.0', 'CID_230.0', 'CID_233.0',\n",
       "       'CID_239.0', 'CID_246.0', 'CID_250.0', 'CID_274.0', 'CID_304.0'],\n",
       "      dtype='object', length=620)"
      ]
     },
     "execution_count": 109,
     "metadata": {},
     "output_type": "execute_result"
    }
   ],
   "source": [
    "test_grp.columns"
   ]
  },
  {
   "cell_type": "code",
   "execution_count": 110,
   "metadata": {},
   "outputs": [
    {
     "data": {
      "text/plain": [
       "Index(['PL_1', 'PL_2', 'PL_3', 'CL_SI2435', 'CL_SI2436', 'CL_SI2437',\n",
       "       'CL_SI2438', 'CL_SI2439', 'CL_SI2440', 'CL_SI2441',\n",
       "       ...\n",
       "       'CID_233.0', 'CID_238.0', 'CID_239.0', 'CID_246.0', 'CID_247.0',\n",
       "       'CID_250.0', 'CID_259.0', 'CID_274.0', 'CID_304.0', 'user_id'],\n",
       "      dtype='object', length=620)"
      ]
     },
     "execution_count": 110,
     "metadata": {},
     "output_type": "execute_result"
    }
   ],
   "source": [
    "train_grp.columns"
   ]
  },
  {
   "cell_type": "code",
   "execution_count": null,
   "metadata": {},
   "outputs": [],
   "source": []
  }
 ],
 "metadata": {
  "kernelspec": {
   "display_name": "Python 3",
   "language": "python",
   "name": "python3"
  },
  "language_info": {
   "codemirror_mode": {
    "name": "ipython",
    "version": 3
   },
   "file_extension": ".py",
   "mimetype": "text/x-python",
   "name": "python",
   "nbconvert_exporter": "python",
   "pygments_lexer": "ipython3",
   "version": "3.6.4"
  }
 },
 "nbformat": 4,
 "nbformat_minor": 2
}
